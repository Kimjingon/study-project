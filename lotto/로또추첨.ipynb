{
 "cells": [
  {
   "cell_type": "code",
   "execution_count": 1,
   "metadata": {},
   "outputs": [
    {
     "name": "stdout",
     "output_type": "stream",
     "text": [
      "이번주 로또 번호 : [9, 36, 26, 8, 4, 20]\n"
     ]
    }
   ],
   "source": [
    "import random\n",
    "rotto_num=[]\n",
    "check=[False for i in range(0,46)]\n",
    "\n",
    "\n",
    "while len(rotto_num)!=6:\n",
    "    number=random.randrange(1,46)\n",
    "    if check[number]==False:\n",
    "        \n",
    "        check[number]=True\n",
    "        rotto_num.append(number)\n",
    "        \n",
    "print(\"이번주 로또 번호 :\",rotto_num)"
   ]
  },
  {
   "cell_type": "code",
   "execution_count": null,
   "metadata": {},
   "outputs": [],
   "source": []
  },
  {
   "cell_type": "code",
   "execution_count": null,
   "metadata": {},
   "outputs": [],
   "source": []
  }
 ],
 "metadata": {
  "kernelspec": {
   "display_name": "Python 3",
   "language": "python",
   "name": "python3"
  },
  "language_info": {
   "codemirror_mode": {
    "name": "ipython",
    "version": 3
   },
   "file_extension": ".py",
   "mimetype": "text/x-python",
   "name": "python",
   "nbconvert_exporter": "python",
   "pygments_lexer": "ipython3",
   "version": "3.7.9"
  }
 },
 "nbformat": 4,
 "nbformat_minor": 4
}
