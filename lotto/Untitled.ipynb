{
 "cells": [
  {
   "cell_type": "code",
   "execution_count": 4,
   "metadata": {},
   "outputs": [],
   "source": [
    "import pandas as pd\n",
    "import numpy as np\n",
    "import  requests\n",
    "import re \n",
    "import tensorflow as tf\n",
    "import os\n",
    "import keras\n",
    "import matplotlib.pyplot as plt\n",
    "from keras.models import Sequential\n",
    "from keras.layers import Dense,Activation\n",
    "from keras.callbacks import EarlyStopping, ModelCheckpoint\n",
    "from keras.layers import LSTM\n",
    "from sklearn.model_selection import train_test_split"
   ]
  },
  {
   "cell_type": "code",
   "execution_count": 25,
   "metadata": {},
   "outputs": [
    {
     "data": {
      "text/plain": [
       "0      10.0\n",
       "1       9.0\n",
       "2      11.0\n",
       "3      14.0\n",
       "4      16.0\n",
       "       ... \n",
       "958     NaN\n",
       "959     NaN\n",
       "960     NaN\n",
       "961     NaN\n",
       "962     NaN\n",
       "Name: 첫번째, Length: 963, dtype: float64"
      ]
     },
     "execution_count": 25,
     "metadata": {},
     "output_type": "execute_result"
    }
   ],
   "source": [
    "file_path = './로또.csv'\n",
    "data = pd.read_csv(file_path) "
   ]
  },
  {
   "cell_type": "code",
   "execution_count": 60,
   "metadata": {},
   "outputs": [
    {
     "name": "stdout",
     "output_type": "stream",
     "text": [
      "      첫번째   두번째   세번째   네번째  다섯번째  여섯번째   보너스\n",
      "0    10.0  23.0  29.0  33.0  37.0  40.0  16.0\n",
      "1     9.0  13.0  21.0  25.0  32.0  42.0   2.0\n",
      "2    11.0  16.0  19.0  21.0  27.0  31.0  30.0\n",
      "3    14.0  27.0  30.0  31.0  40.0  42.0   2.0\n",
      "4    16.0  24.0  29.0  40.0  41.0  42.0   3.0\n",
      "..    ...   ...   ...   ...   ...   ...   ...\n",
      "937   4.0   8.0  10.0  16.0  31.0  36.0   9.0\n",
      "938   4.0  11.0  28.0  39.0  42.0  45.0   6.0\n",
      "939   3.0  15.0  20.0  22.0  24.0  41.0  11.0\n",
      "940  12.0  14.0  25.0  27.0  39.0  40.0  35.0\n",
      "941  10.0  12.0  18.0  35.0  42.0  43.0  39.0\n",
      "\n",
      "[942 rows x 7 columns]\n"
     ]
    }
   ],
   "source": [
    "data_frame = pd.DataFrame(data,columns=['첫번째','두번째','세번째','네번째','다섯번째','여섯번째','보너스'])\n",
    "data_frame=data_frame.dropna() \n",
    "print(data_frame)"
   ]
  },
  {
   "cell_type": "code",
   "execution_count": 69,
   "metadata": {},
   "outputs": [
    {
     "data": {
      "text/plain": [
       "0"
      ]
     },
     "execution_count": 69,
     "metadata": {},
     "output_type": "execute_result"
    }
   ],
   "source": [
    "count = [0 for i in range(1,47)]\n",
    "data_np = np.array(data)\n",
    "count[45]"
   ]
  },
  {
   "cell_type": "code",
   "execution_count": 70,
   "metadata": {},
   "outputs": [
    {
     "name": "stdout",
     "output_type": "stream",
     "text": [
      "[0, 131, 123, 126, 129, 128, 118, 125, 126, 95, 130, 128, 134, 132, 133, 127, 122, 136, 136, 129, 132, 125, 107, 113, 124, 122, 125, 139, 117, 114, 112, 127, 109, 130, 146, 114, 125, 128, 127, 136, 134, 114, 122, 139, 125, 132]\n"
     ]
    }
   ],
   "source": [
    "for i in range(0,941):\n",
    "    for j in range(2,8):\n",
    "        count[int(data_np[i][j])]+=1\n",
    "print(count)"
   ]
  },
  {
   "cell_type": "code",
   "execution_count": 71,
   "metadata": {},
   "outputs": [],
   "source": [
    "max_list=[]\n",
    "for i in range(0,45):\n",
    "    max_list.append(count.index(max(count)))\n",
    "    count[count.index(max(count))]=0\n"
   ]
  },
  {
   "cell_type": "code",
   "execution_count": 72,
   "metadata": {},
   "outputs": [
    {
     "name": "stdout",
     "output_type": "stream",
     "text": [
      "[34, 27, 43, 17, 18, 39, 12, 40, 14, 13, 20, 45, 1, 10, 33, 4, 19, 5, 11, 37, 15, 31, 38, 3, 8, 7, 21, 26, 36, 44, 24, 2, 16, 25, 42, 6, 28, 29, 35, 41, 23, 30, 32, 22, 9]\n"
     ]
    },
    {
     "data": {
      "text/plain": [
       "45"
      ]
     },
     "execution_count": 72,
     "metadata": {},
     "output_type": "execute_result"
    }
   ],
   "source": [
    "print(max_list)\n",
    "len(max_list)"
   ]
  },
  {
   "cell_type": "code",
   "execution_count": null,
   "metadata": {},
   "outputs": [],
   "source": []
  }
 ],
 "metadata": {
  "kernelspec": {
   "display_name": "tests",
   "language": "python",
   "name": "tests"
  },
  "language_info": {
   "codemirror_mode": {
    "name": "ipython",
    "version": 3
   },
   "file_extension": ".py",
   "mimetype": "text/x-python",
   "name": "python",
   "nbconvert_exporter": "python",
   "pygments_lexer": "ipython3",
   "version": "3.7.9"
  }
 },
 "nbformat": 4,
 "nbformat_minor": 4
}
