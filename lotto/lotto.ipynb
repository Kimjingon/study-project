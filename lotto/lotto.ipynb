{
 "cells": [
  {
   "cell_type": "markdown",
   "metadata": {},
   "source": [
    "# 라이브러리"
   ]
  },
  {
   "cell_type": "code",
   "execution_count": 1,
   "metadata": {},
   "outputs": [
    {
     "name": "stderr",
     "output_type": "stream",
     "text": [
      "Using TensorFlow backend.\n"
     ]
    }
   ],
   "source": [
    "import pandas as pd\n",
    "import numpy as np\n",
    "import  requests\n",
    "import re \n",
    "import tensorflow as tf\n",
    "import os\n",
    "import keras\n",
    "import matplotlib.pyplot as plt\n",
    "from keras.models import Sequential\n",
    "from keras.layers import Dense,Activation\n",
    "from keras.callbacks import EarlyStopping, ModelCheckpoint\n",
    "from keras.layers import LSTM\n",
    "from sklearn.model_selection import train_test_split"
   ]
  },
  {
   "cell_type": "markdown",
   "metadata": {},
   "source": [
    "# 데이터 불러오기"
   ]
  },
  {
   "cell_type": "code",
   "execution_count": 2,
   "metadata": {},
   "outputs": [
    {
     "name": "stdout",
     "output_type": "stream",
     "text": [
      "       회차         추첨일  첫번째  두번째  세번째  네번째  다섯번째  여섯번째  보너스\n",
      "0       1  2002-12-07   10   23   29   33    37    40   16\n",
      "1       2  2002-12-14    9   13   21   25    32    42    2\n",
      "2       3  2002-12-21   11   16   19   21    27    31   30\n",
      "3       4  2002-12-28   14   27   30   31    40    42    2\n",
      "4       5  2003-01-04   16   24   29   40    41    42    3\n",
      "...   ...         ...  ...  ...  ...  ...   ...   ...  ...\n",
      "1148  938  2020-11-21    4    8   10   16    31    36    9\n",
      "1149  939  2020-11-28    4   11   28   39    42    45    6\n",
      "1150  940  2020-12-05    3   15   20   22    24    41   11\n",
      "1151  941  2020-12-12   12   14   25   27    39    40   35\n",
      "1152  942  2020-12-19   10   12   18   35    42    43   39\n",
      "\n",
      "[1153 rows x 9 columns]\n"
     ]
    }
   ],
   "source": [
    "    file_path = './로또.csv'\n",
    "    data = pd.read_csv(file_path)\n",
    "\n",
    "    print(data) "
   ]
  },
  {
   "cell_type": "markdown",
   "metadata": {},
   "source": [
    "# 데이터 전처리"
   ]
  },
  {
   "cell_type": "code",
   "execution_count": 3,
   "metadata": {},
   "outputs": [
    {
     "data": {
      "text/html": [
       "<div>\n",
       "<style scoped>\n",
       "    .dataframe tbody tr th:only-of-type {\n",
       "        vertical-align: middle;\n",
       "    }\n",
       "\n",
       "    .dataframe tbody tr th {\n",
       "        vertical-align: top;\n",
       "    }\n",
       "\n",
       "    .dataframe thead th {\n",
       "        text-align: right;\n",
       "    }\n",
       "</style>\n",
       "<table border=\"1\" class=\"dataframe\">\n",
       "  <thead>\n",
       "    <tr style=\"text-align: right;\">\n",
       "      <th></th>\n",
       "      <th>첫번째</th>\n",
       "      <th>두번째</th>\n",
       "      <th>세번째</th>\n",
       "      <th>네번째</th>\n",
       "      <th>다섯번째</th>\n",
       "      <th>여섯번째</th>\n",
       "      <th>보너스</th>\n",
       "    </tr>\n",
       "  </thead>\n",
       "  <tbody>\n",
       "    <tr>\n",
       "      <th>0</th>\n",
       "      <td>10</td>\n",
       "      <td>23</td>\n",
       "      <td>29</td>\n",
       "      <td>33</td>\n",
       "      <td>37</td>\n",
       "      <td>40</td>\n",
       "      <td>16</td>\n",
       "    </tr>\n",
       "    <tr>\n",
       "      <th>1</th>\n",
       "      <td>9</td>\n",
       "      <td>13</td>\n",
       "      <td>21</td>\n",
       "      <td>25</td>\n",
       "      <td>32</td>\n",
       "      <td>42</td>\n",
       "      <td>2</td>\n",
       "    </tr>\n",
       "    <tr>\n",
       "      <th>2</th>\n",
       "      <td>11</td>\n",
       "      <td>16</td>\n",
       "      <td>19</td>\n",
       "      <td>21</td>\n",
       "      <td>27</td>\n",
       "      <td>31</td>\n",
       "      <td>30</td>\n",
       "    </tr>\n",
       "    <tr>\n",
       "      <th>3</th>\n",
       "      <td>14</td>\n",
       "      <td>27</td>\n",
       "      <td>30</td>\n",
       "      <td>31</td>\n",
       "      <td>40</td>\n",
       "      <td>42</td>\n",
       "      <td>2</td>\n",
       "    </tr>\n",
       "    <tr>\n",
       "      <th>4</th>\n",
       "      <td>16</td>\n",
       "      <td>24</td>\n",
       "      <td>29</td>\n",
       "      <td>40</td>\n",
       "      <td>41</td>\n",
       "      <td>42</td>\n",
       "      <td>3</td>\n",
       "    </tr>\n",
       "    <tr>\n",
       "      <th>...</th>\n",
       "      <td>...</td>\n",
       "      <td>...</td>\n",
       "      <td>...</td>\n",
       "      <td>...</td>\n",
       "      <td>...</td>\n",
       "      <td>...</td>\n",
       "      <td>...</td>\n",
       "    </tr>\n",
       "    <tr>\n",
       "      <th>1148</th>\n",
       "      <td>4</td>\n",
       "      <td>8</td>\n",
       "      <td>10</td>\n",
       "      <td>16</td>\n",
       "      <td>31</td>\n",
       "      <td>36</td>\n",
       "      <td>9</td>\n",
       "    </tr>\n",
       "    <tr>\n",
       "      <th>1149</th>\n",
       "      <td>4</td>\n",
       "      <td>11</td>\n",
       "      <td>28</td>\n",
       "      <td>39</td>\n",
       "      <td>42</td>\n",
       "      <td>45</td>\n",
       "      <td>6</td>\n",
       "    </tr>\n",
       "    <tr>\n",
       "      <th>1150</th>\n",
       "      <td>3</td>\n",
       "      <td>15</td>\n",
       "      <td>20</td>\n",
       "      <td>22</td>\n",
       "      <td>24</td>\n",
       "      <td>41</td>\n",
       "      <td>11</td>\n",
       "    </tr>\n",
       "    <tr>\n",
       "      <th>1151</th>\n",
       "      <td>12</td>\n",
       "      <td>14</td>\n",
       "      <td>25</td>\n",
       "      <td>27</td>\n",
       "      <td>39</td>\n",
       "      <td>40</td>\n",
       "      <td>35</td>\n",
       "    </tr>\n",
       "    <tr>\n",
       "      <th>1152</th>\n",
       "      <td>10</td>\n",
       "      <td>12</td>\n",
       "      <td>18</td>\n",
       "      <td>35</td>\n",
       "      <td>42</td>\n",
       "      <td>43</td>\n",
       "      <td>39</td>\n",
       "    </tr>\n",
       "  </tbody>\n",
       "</table>\n",
       "<p>1153 rows × 7 columns</p>\n",
       "</div>"
      ],
      "text/plain": [
       "      첫번째  두번째  세번째  네번째  다섯번째  여섯번째  보너스\n",
       "0      10   23   29   33    37    40   16\n",
       "1       9   13   21   25    32    42    2\n",
       "2      11   16   19   21    27    31   30\n",
       "3      14   27   30   31    40    42    2\n",
       "4      16   24   29   40    41    42    3\n",
       "...   ...  ...  ...  ...   ...   ...  ...\n",
       "1148    4    8   10   16    31    36    9\n",
       "1149    4   11   28   39    42    45    6\n",
       "1150    3   15   20   22    24    41   11\n",
       "1151   12   14   25   27    39    40   35\n",
       "1152   10   12   18   35    42    43   39\n",
       "\n",
       "[1153 rows x 7 columns]"
      ]
     },
     "execution_count": 3,
     "metadata": {},
     "output_type": "execute_result"
    }
   ],
   "source": [
    "data_frame = pd.DataFrame(data,columns=['첫번째','두번째','세번째','네번째','다섯번째','여섯번째','보너스'])\n",
    "data_frame=data_frame.dropna()\n",
    "data_frame\n"
   ]
  },
  {
   "cell_type": "markdown",
   "metadata": {},
   "source": [
    "# 그냥 그려보기"
   ]
  },
  {
   "cell_type": "code",
   "execution_count": null,
   "metadata": {},
   "outputs": [],
   "source": []
  },
  {
   "cell_type": "code",
   "execution_count": 4,
   "metadata": {},
   "outputs": [
    {
     "data": {
      "image/png": "[encoded data removed]",
      "text/plain": [
       "<Figure size 432x288 with 1 Axes>"
      ]
     },
     "metadata": {
      "needs_background": "light"
     },
     "output_type": "display_data"
    },
    {
     "data": {
      "image/png": "[encoded data removed]",
      "text/plain": [
       "<Figure size 432x288 with 1 Axes>"
      ]
     },
     "metadata": {
      "needs_background": "light"
     },
     "output_type": "display_data"
    },
    {
     "data": {
      "text/plain": [
       "1"
      ]
     },
     "execution_count": 4,
     "metadata": {},
     "output_type": "execute_result"
    }
   ],
   "source": [
    "\n",
    "def sigmoid(x):\n",
    "    return 1 /(1+np.exp(-x))\n",
    "\n",
    "x_=np.arange(-5.0,5.0,1)\n",
    "x_1=sigmoid(x_)\n",
    "plt.plot(x_,x_1) \n",
    "plt.ylim(-0,1,1.1)\n",
    "plt.show()\n",
    "\n",
    "def relu(x):\n",
    "    return np.maximum(0,x)\n",
    "\n",
    "x_2=relu(x_)\n",
    "plt.plot(x_,x_2,label=\"ReLU\")\n",
    "plt.show()\n",
    "np.ndim(x_)"
   ]
  },
  {
   "cell_type": "code",
   "execution_count": 28,
   "metadata": {},
   "outputs": [],
   "source": [
    "train = data_frame[:943]\n",
    "test=data_frame[943:]  \n",
    "\n",
    "def make_dataset(data,label,window_size):\n",
    "    feature_list=[]\n",
    "    label_list=[]\n",
    "    for i in range(len(data)-window_size):\n",
    "        feature_list.append(np.array(data.iloc[i:i+window_size]))\n",
    "        label_list.append(np.array(label.iloc[i+window_size]))\n",
    "        \n",
    "    return np.array(feature_list),np.array(label_list)"
   ]
  },
  {
   "cell_type": "code",
   "execution_count": 36,
   "metadata": {},
   "outputs": [],
   "source": [
    "feature_cols=['첫번째','두번째','세번째','네번째','다섯번째','여섯번째','보너스']\n",
    "label_cols=['첫번째','두번째','세번째','네번째','다섯번째','여섯번째']\n",
    "train_feature = train[feature_cols]\n",
    "train_label=train[label_cols]\n",
    "test_feature=test[feature_cols]\n",
    "test_label=test[label_cols]  \n",
    "train_feature,train_label=make_dataset(train_feature,train_label,16)"
   ]
  },
  {
   "cell_type": "code",
   "execution_count": 37,
   "metadata": {
    "scrolled": true
   },
   "outputs": [
    {
     "data": {
      "text/plain": [
       "((741, 16, 7), (186, 16, 7))"
      ]
     },
     "execution_count": 37,
     "metadata": {},
     "output_type": "execute_result"
    }
   ],
   "source": [
    "x_train,x_valid,y_train,y_valid = train_test_split(train_feature,train_label,test_size=0.2)\n",
    "x_train.shape,x_valid.shape"
   ]
  },
  {
   "cell_type": "code",
   "execution_count": 38,
   "metadata": {},
   "outputs": [],
   "source": [
    "test_feature,test_label=make_dataset(test_feature,test_label,16)  "
   ]
  },
  {
   "cell_type": "code",
   "execution_count": 39,
   "metadata": {},
   "outputs": [
    {
     "data": {
      "text/plain": [
       "((194, 16, 7), (194, 6))"
      ]
     },
     "execution_count": 39,
     "metadata": {},
     "output_type": "execute_result"
    }
   ],
   "source": [
    "\n",
    "test_feature.shape,test_label.shape   "
   ]
  },
  {
   "cell_type": "code",
   "execution_count": 40,
   "metadata": {},
   "outputs": [
    {
     "name": "stdout",
     "output_type": "stream",
     "text": [
      "Model: \"sequential_3\"\n",
      "_________________________________________________________________\n",
      "Layer (type)                 Output Shape              Param #   \n",
      "=================================================================\n",
      "lstm_3 (LSTM)                (None, 16)                1536      \n",
      "_________________________________________________________________\n",
      "dense_3 (Dense)              (None, 6)                 102       \n",
      "=================================================================\n",
      "Total params: 1,638\n",
      "Trainable params: 1,638\n",
      "Non-trainable params: 0\n",
      "_________________________________________________________________\n"
     ]
    }
   ],
   "source": [
    "model =Sequential()\n",
    "model.add(LSTM(16,input_shape=(train_feature.shape[1],train_feature.shape[2]),activation='relu',return_sequences=False))  \n",
    "model.add(Dense(6))  \n",
    "model.compile(loss='mean_squared_error', optimizer='adam',metrics=['accuracy']) \n",
    "model.summary()"
   ]
  },
  {
   "cell_type": "code",
   "execution_count": 43,
   "metadata": {},
   "outputs": [
    {
     "name": "stdout",
     "output_type": "stream",
     "text": [
      "Train on 741 samples, validate on 186 samples\n",
      "Epoch 1/100\n",
      "741/741 [==============================] - 1s 1ms/step - loss: 34.1132 - accuracy: 1.0000 - val_loss: 59.5564 - val_accuracy: 1.0000\n",
      "Epoch 2/100\n",
      "741/741 [==============================] - 1s 1ms/step - loss: 33.5954 - accuracy: 1.0000 - val_loss: 58.7643 - val_accuracy: 1.0000\n",
      "Epoch 3/100\n",
      "741/741 [==============================] - 1s 1ms/step - loss: 33.2812 - accuracy: 1.0000 - val_loss: 59.9693 - val_accuracy: 1.0000\n",
      "Epoch 4/100\n",
      "741/741 [==============================] - 1s 1ms/step - loss: 33.7055 - accuracy: 1.0000 - val_loss: 58.7511 - val_accuracy: 1.0000\n",
      "Epoch 5/100\n",
      "741/741 [==============================] - 1s 1ms/step - loss: 33.7233 - accuracy: 1.0000 - val_loss: 59.8313 - val_accuracy: 1.0000\n",
      "Epoch 6/100\n",
      "741/741 [==============================] - 1s 1ms/step - loss: 33.9903 - accuracy: 0.9987 - val_loss: 56.8335 - val_accuracy: 1.0000\n",
      "Epoch 7/100\n",
      "741/741 [==============================] - 1s 992us/step - loss: 35.8729 - accuracy: 0.9960 - val_loss: 58.3048 - val_accuracy: 1.0000\n",
      "Epoch 8/100\n",
      "741/741 [==============================] - 1s 1ms/step - loss: 34.3064 - accuracy: 1.0000 - val_loss: 57.0418 - val_accuracy: 1.0000\n",
      "Epoch 9/100\n",
      "741/741 [==============================] - 1s 1ms/step - loss: 32.2991 - accuracy: 1.0000 - val_loss: 56.5635 - val_accuracy: 1.0000\n",
      "Epoch 10/100\n",
      "741/741 [==============================] - 1s 1ms/step - loss: 33.5608 - accuracy: 1.0000 - val_loss: 60.5286 - val_accuracy: 1.0000\n",
      "Epoch 11/100\n",
      "741/741 [==============================] - 1s 1ms/step - loss: 32.5275 - accuracy: 1.0000 - val_loss: 63.6454 - val_accuracy: 0.9946\n",
      "Epoch 12/100\n",
      "741/741 [==============================] - 1s 1ms/step - loss: 32.3863 - accuracy: 1.0000 - val_loss: 60.8914 - val_accuracy: 1.0000\n",
      "Epoch 13/100\n",
      "741/741 [==============================] - 1s 1ms/step - loss: 32.0034 - accuracy: 1.0000 - val_loss: 61.4689 - val_accuracy: 1.0000\n",
      "Epoch 14/100\n",
      "741/741 [==============================] - 1s 1ms/step - loss: 38.9307 - accuracy: 1.0000 - val_loss: 66.3182 - val_accuracy: 1.0000\n",
      "Epoch 15/100\n",
      "741/741 [==============================] - 1s 1ms/step - loss: 40.9764 - accuracy: 1.0000 - val_loss: 57.4140 - val_accuracy: 1.0000\n",
      "Epoch 16/100\n",
      "741/741 [==============================] - 1s 1ms/step - loss: 36.2114 - accuracy: 0.9987 - val_loss: 58.7268 - val_accuracy: 1.0000\n",
      "Epoch 17/100\n",
      "741/741 [==============================] - 1s 1ms/step - loss: 34.3311 - accuracy: 1.0000 - val_loss: 58.5656 - val_accuracy: 1.0000\n",
      "Epoch 18/100\n",
      "741/741 [==============================] - 1s 1ms/step - loss: 34.1544 - accuracy: 0.9987 - val_loss: 60.0947 - val_accuracy: 1.0000\n",
      "Epoch 19/100\n",
      "741/741 [==============================] - 1s 1ms/step - loss: 32.6457 - accuracy: 0.9987 - val_loss: 58.4514 - val_accuracy: 1.0000\n",
      "Epoch 20/100\n",
      "741/741 [==============================] - 1s 980us/step - loss: 32.2843 - accuracy: 1.0000 - val_loss: 57.2138 - val_accuracy: 1.0000\n",
      "Epoch 21/100\n",
      "741/741 [==============================] - 1s 1ms/step - loss: 33.3392 - accuracy: 1.0000 - val_loss: 60.1086 - val_accuracy: 1.0000\n",
      "Epoch 22/100\n",
      "741/741 [==============================] - 1s 1ms/step - loss: 32.0866 - accuracy: 1.0000 - val_loss: 57.8756 - val_accuracy: 1.0000\n",
      "Epoch 23/100\n",
      "741/741 [==============================] - 1s 1ms/step - loss: 33.2505 - accuracy: 1.0000 - val_loss: 58.6750 - val_accuracy: 1.0000\n",
      "Epoch 24/100\n",
      "741/741 [==============================] - 1s 1ms/step - loss: 33.5569 - accuracy: 1.0000 - val_loss: 58.2611 - val_accuracy: 1.0000\n",
      "Epoch 25/100\n",
      "741/741 [==============================] - 1s 1ms/step - loss: 32.1664 - accuracy: 1.0000 - val_loss: 58.6575 - val_accuracy: 1.0000\n",
      "Epoch 26/100\n",
      "741/741 [==============================] - 1s 1ms/step - loss: 31.6116 - accuracy: 1.0000 - val_loss: 58.8626 - val_accuracy: 1.0000\n",
      "Epoch 27/100\n",
      "741/741 [==============================] - 1s 1ms/step - loss: 31.8631 - accuracy: 0.9987 - val_loss: 59.4772 - val_accuracy: 1.0000\n",
      "Epoch 28/100\n",
      "741/741 [==============================] - 1s 1ms/step - loss: 34.0108 - accuracy: 0.9987 - val_loss: 60.6777 - val_accuracy: 0.9946\n",
      "Epoch 29/100\n",
      "741/741 [==============================] - 1s 1ms/step - loss: 33.7297 - accuracy: 1.0000 - val_loss: 61.7880 - val_accuracy: 0.9946\n",
      "Epoch 30/100\n",
      "741/741 [==============================] - 1s 1ms/step - loss: 31.1135 - accuracy: 1.0000 - val_loss: 61.2251 - val_accuracy: 1.0000\n",
      "Epoch 31/100\n",
      "741/741 [==============================] - 1s 1ms/step - loss: 32.0430 - accuracy: 1.0000 - val_loss: 58.8863 - val_accuracy: 1.0000\n",
      "Epoch 32/100\n",
      "741/741 [==============================] - 1s 1ms/step - loss: 31.7912 - accuracy: 0.9973 - val_loss: 61.8901 - val_accuracy: 1.0000\n",
      "Epoch 33/100\n",
      "741/741 [==============================] - 1s 1ms/step - loss: 34.1144 - accuracy: 1.0000 - val_loss: 58.4082 - val_accuracy: 1.0000\n",
      "Epoch 34/100\n",
      "741/741 [==============================] - 1s 1ms/step - loss: 33.6205 - accuracy: 1.0000 - val_loss: 56.7675 - val_accuracy: 1.0000\n",
      "Epoch 35/100\n",
      "741/741 [==============================] - 1s 1ms/step - loss: 34.0386 - accuracy: 1.0000 - val_loss: 62.2271 - val_accuracy: 1.0000\n",
      "Epoch 36/100\n",
      "741/741 [==============================] - 1s 1ms/step - loss: 32.2836 - accuracy: 1.0000 - val_loss: 57.5409 - val_accuracy: 1.0000\n",
      "Epoch 37/100\n",
      "741/741 [==============================] - 1s 1ms/step - loss: 33.1079 - accuracy: 1.0000 - val_loss: 61.3928 - val_accuracy: 1.0000\n",
      "Epoch 38/100\n",
      "741/741 [==============================] - 1s 1ms/step - loss: 33.0047 - accuracy: 1.0000 - val_loss: 58.8000 - val_accuracy: 1.0000\n",
      "Epoch 39/100\n",
      "741/741 [==============================] - 1s 1ms/step - loss: 31.8928 - accuracy: 1.0000 - val_loss: 58.6310 - val_accuracy: 1.0000\n",
      "Epoch 40/100\n",
      "741/741 [==============================] - 1s 1ms/step - loss: 33.0371 - accuracy: 1.0000 - val_loss: 59.3433 - val_accuracy: 1.0000\n",
      "Epoch 41/100\n",
      "741/741 [==============================] - 1s 1ms/step - loss: 39.1457 - accuracy: 1.0000 - val_loss: 56.0810 - val_accuracy: 1.0000\n",
      "Epoch 42/100\n",
      "741/741 [==============================] - 1s 1ms/step - loss: 34.0214 - accuracy: 1.0000 - val_loss: 55.5904 - val_accuracy: 1.0000\n",
      "Epoch 43/100\n",
      "741/741 [==============================] - 1s 1ms/step - loss: 31.8833 - accuracy: 1.0000 - val_loss: 58.3963 - val_accuracy: 1.0000\n",
      "Epoch 44/100\n",
      "741/741 [==============================] - 1s 1ms/step - loss: 32.4037 - accuracy: 1.0000 - val_loss: 58.0175 - val_accuracy: 1.0000\n",
      "Epoch 45/100\n",
      "741/741 [==============================] - 1s 1ms/step - loss: 31.2726 - accuracy: 1.0000 - val_loss: 57.6833 - val_accuracy: 1.0000\n",
      "Epoch 46/100\n",
      "741/741 [==============================] - 1s 991us/step - loss: 31.4976 - accuracy: 0.9987 - val_loss: 57.5382 - val_accuracy: 1.0000\n",
      "Epoch 47/100\n",
      "741/741 [==============================] - 1s 1ms/step - loss: 31.2964 - accuracy: 0.9987 - val_loss: 61.1196 - val_accuracy: 1.0000\n",
      "Epoch 48/100\n",
      "741/741 [==============================] - 1s 1ms/step - loss: 32.3586 - accuracy: 0.9987 - val_loss: 59.8378 - val_accuracy: 1.0000\n",
      "Epoch 49/100\n",
      "741/741 [==============================] - 1s 1ms/step - loss: 33.7874 - accuracy: 1.0000 - val_loss: 57.3212 - val_accuracy: 0.9946\n",
      "Epoch 50/100\n",
      "741/741 [==============================] - 1s 1ms/step - loss: 33.1229 - accuracy: 1.0000 - val_loss: 59.8071 - val_accuracy: 0.9946\n",
      "Epoch 51/100\n",
      "741/741 [==============================] - 1s 1ms/step - loss: 31.8891 - accuracy: 1.0000 - val_loss: 60.1413 - val_accuracy: 1.0000\n",
      "Epoch 52/100\n",
      "741/741 [==============================] - 1s 1ms/step - loss: 32.1326 - accuracy: 1.0000 - val_loss: 62.8705 - val_accuracy: 1.0000\n",
      "Epoch 53/100\n",
      "741/741 [==============================] - 1s 1ms/step - loss: 32.6965 - accuracy: 1.0000 - val_loss: 57.1454 - val_accuracy: 1.0000\n",
      "Epoch 54/100\n",
      "741/741 [==============================] - 1s 1ms/step - loss: 32.5025 - accuracy: 0.9987 - val_loss: 59.5434 - val_accuracy: 1.0000\n",
      "Epoch 55/100\n",
      "741/741 [==============================] - 1s 1ms/step - loss: 32.2019 - accuracy: 1.0000 - val_loss: 62.3150 - val_accuracy: 1.0000\n",
      "Epoch 56/100\n",
      "741/741 [==============================] - 1s 1ms/step - loss: 31.8651 - accuracy: 1.0000 - val_loss: 57.1725 - val_accuracy: 0.9946\n"
     ]
    },
    {
     "name": "stdout",
     "output_type": "stream",
     "text": [
      "Epoch 57/100\n",
      "741/741 [==============================] - 1s 1ms/step - loss: 31.8580 - accuracy: 0.9987 - val_loss: 56.5350 - val_accuracy: 1.0000\n",
      "Epoch 58/100\n",
      "741/741 [==============================] - 1s 1ms/step - loss: 30.7850 - accuracy: 1.0000 - val_loss: 60.2733 - val_accuracy: 0.9946\n",
      "Epoch 59/100\n",
      "741/741 [==============================] - 1s 988us/step - loss: 31.5410 - accuracy: 1.0000 - val_loss: 58.9471 - val_accuracy: 1.0000\n",
      "Epoch 60/100\n",
      "741/741 [==============================] - 1s 1000us/step - loss: 33.7466 - accuracy: 1.0000 - val_loss: 57.8192 - val_accuracy: 0.9946\n",
      "Epoch 61/100\n",
      "741/741 [==============================] - 1s 1ms/step - loss: 33.1096 - accuracy: 0.9987 - val_loss: 58.3284 - val_accuracy: 1.0000\n",
      "Epoch 62/100\n",
      "741/741 [==============================] - 1s 1ms/step - loss: 30.9350 - accuracy: 0.9987 - val_loss: 59.7847 - val_accuracy: 1.0000\n",
      "Epoch 63/100\n",
      "741/741 [==============================] - 1s 1ms/step - loss: 32.2163 - accuracy: 1.0000 - val_loss: 58.1157 - val_accuracy: 1.0000\n",
      "Epoch 64/100\n",
      "741/741 [==============================] - 1s 1ms/step - loss: 31.6884 - accuracy: 1.0000 - val_loss: 60.2460 - val_accuracy: 1.0000\n",
      "Epoch 65/100\n",
      "741/741 [==============================] - 1s 1ms/step - loss: 33.6767 - accuracy: 1.0000 - val_loss: 59.8924 - val_accuracy: 1.0000\n",
      "Epoch 66/100\n",
      "741/741 [==============================] - 1s 1ms/step - loss: 36.6705 - accuracy: 1.0000 - val_loss: 60.9552 - val_accuracy: 1.0000\n",
      "Epoch 67/100\n",
      "741/741 [==============================] - 1s 1ms/step - loss: 36.9399 - accuracy: 1.0000 - val_loss: 56.9994 - val_accuracy: 1.0000\n",
      "Epoch 68/100\n",
      "741/741 [==============================] - 1s 1ms/step - loss: 31.2676 - accuracy: 1.0000 - val_loss: 59.9221 - val_accuracy: 1.0000\n",
      "Epoch 69/100\n",
      "741/741 [==============================] - 1s 1ms/step - loss: 31.8716 - accuracy: 1.0000 - val_loss: 57.8672 - val_accuracy: 1.0000\n",
      "Epoch 70/100\n",
      "741/741 [==============================] - 1s 1ms/step - loss: 32.5309 - accuracy: 1.0000 - val_loss: 60.7949 - val_accuracy: 1.0000\n",
      "Epoch 71/100\n",
      "741/741 [==============================] - 1s 1ms/step - loss: 32.4323 - accuracy: 1.0000 - val_loss: 60.9261 - val_accuracy: 1.0000\n",
      "Epoch 72/100\n",
      "741/741 [==============================] - 1s 989us/step - loss: 31.3972 - accuracy: 1.0000 - val_loss: 57.7363 - val_accuracy: 1.0000\n",
      "Epoch 73/100\n",
      "741/741 [==============================] - 1s 995us/step - loss: 32.3570 - accuracy: 1.0000 - val_loss: 57.1880 - val_accuracy: 1.0000\n",
      "Epoch 74/100\n",
      "741/741 [==============================] - 1s 1ms/step - loss: 33.0146 - accuracy: 1.0000 - val_loss: 61.2510 - val_accuracy: 0.9946\n",
      "Epoch 75/100\n",
      "741/741 [==============================] - 1s 1ms/step - loss: 35.7735 - accuracy: 0.9987 - val_loss: 54.5934 - val_accuracy: 0.9946\n",
      "Epoch 76/100\n",
      "741/741 [==============================] - 1s 1ms/step - loss: 33.2293 - accuracy: 0.9987 - val_loss: 57.2436 - val_accuracy: 1.0000\n",
      "Epoch 77/100\n",
      "741/741 [==============================] - 1s 1ms/step - loss: 31.2102 - accuracy: 1.0000 - val_loss: 61.5691 - val_accuracy: 1.0000\n",
      "Epoch 78/100\n",
      "741/741 [==============================] - 1s 1ms/step - loss: 32.4538 - accuracy: 1.0000 - val_loss: 64.0615 - val_accuracy: 1.0000\n",
      "Epoch 79/100\n",
      "741/741 [==============================] - 1s 1ms/step - loss: 36.6341 - accuracy: 0.9987 - val_loss: 59.8547 - val_accuracy: 0.9946\n",
      "Epoch 80/100\n",
      "741/741 [==============================] - 1s 1ms/step - loss: 36.7520 - accuracy: 1.0000 - val_loss: 56.1456 - val_accuracy: 1.0000\n",
      "Epoch 81/100\n",
      "741/741 [==============================] - 1s 1ms/step - loss: 31.7831 - accuracy: 1.0000 - val_loss: 58.4058 - val_accuracy: 1.0000\n",
      "Epoch 82/100\n",
      "741/741 [==============================] - 1s 1ms/step - loss: 31.3822 - accuracy: 0.9987 - val_loss: 60.3002 - val_accuracy: 1.0000\n",
      "Epoch 83/100\n",
      "741/741 [==============================] - 1s 1ms/step - loss: 31.1755 - accuracy: 1.0000 - val_loss: 59.4876 - val_accuracy: 1.0000\n",
      "Epoch 84/100\n",
      "741/741 [==============================] - 1s 1ms/step - loss: 31.8930 - accuracy: 0.9987 - val_loss: 60.4886 - val_accuracy: 1.0000\n",
      "Epoch 85/100\n",
      "741/741 [==============================] - 1s 1ms/step - loss: 33.9606 - accuracy: 1.0000 - val_loss: 58.1769 - val_accuracy: 1.0000\n",
      "Epoch 86/100\n",
      "741/741 [==============================] - 1s 984us/step - loss: 32.2180 - accuracy: 1.0000 - val_loss: 59.1497 - val_accuracy: 1.0000\n",
      "Epoch 87/100\n",
      "741/741 [==============================] - 1s 1ms/step - loss: 31.4671 - accuracy: 1.0000 - val_loss: 61.0275 - val_accuracy: 1.0000\n",
      "Epoch 88/100\n",
      "741/741 [==============================] - 1s 1ms/step - loss: 30.7921 - accuracy: 1.0000 - val_loss: 63.6746 - val_accuracy: 0.9892\n",
      "Epoch 89/100\n",
      "741/741 [==============================] - 1s 1ms/step - loss: 32.0080 - accuracy: 0.9973 - val_loss: 60.9997 - val_accuracy: 1.0000\n",
      "Epoch 90/100\n",
      "741/741 [==============================] - 1s 1ms/step - loss: 31.2521 - accuracy: 1.0000 - val_loss: 58.6757 - val_accuracy: 0.9946\n",
      "Epoch 91/100\n",
      "741/741 [==============================] - 1s 1ms/step - loss: 31.4321 - accuracy: 1.0000 - val_loss: 59.2404 - val_accuracy: 0.9946\n",
      "Epoch 92/100\n",
      "741/741 [==============================] - 1s 1ms/step - loss: 36.2422 - accuracy: 0.9987 - val_loss: 53.9147 - val_accuracy: 1.0000\n",
      "Epoch 93/100\n",
      "741/741 [==============================] - 1s 1ms/step - loss: 32.8185 - accuracy: 1.0000 - val_loss: 57.4654 - val_accuracy: 1.0000\n",
      "Epoch 94/100\n",
      "741/741 [==============================] - 1s 1ms/step - loss: 30.8354 - accuracy: 1.0000 - val_loss: 59.3107 - val_accuracy: 0.9946\n",
      "Epoch 95/100\n",
      "741/741 [==============================] - 1s 1ms/step - loss: 30.9152 - accuracy: 1.0000 - val_loss: 56.8691 - val_accuracy: 1.0000\n",
      "Epoch 96/100\n",
      "741/741 [==============================] - 1s 1ms/step - loss: 31.4618 - accuracy: 0.9987 - val_loss: 68.4586 - val_accuracy: 1.0000\n",
      "Epoch 97/100\n",
      "741/741 [==============================] - 1s 1ms/step - loss: 34.6384 - accuracy: 1.0000 - val_loss: 57.8207 - val_accuracy: 1.0000\n",
      "Epoch 98/100\n",
      "741/741 [==============================] - 1s 1ms/step - loss: 32.6227 - accuracy: 1.0000 - val_loss: 60.0422 - val_accuracy: 0.9946\n",
      "Epoch 99/100\n",
      "741/741 [==============================] - 1s 992us/step - loss: 30.7826 - accuracy: 0.9987 - val_loss: 60.2428 - val_accuracy: 1.0000\n",
      "Epoch 100/100\n",
      "741/741 [==============================] - 1s 992us/step - loss: 33.3955 - accuracy: 0.9987 - val_loss: 56.3370 - val_accuracy: 1.0000\n"
     ]
    }
   ],
   "source": [
    " \n",
    "history = model.fit(x_train, y_train, \n",
    "                    epochs=100, \n",
    "                    batch_size=16,\n",
    "                    validation_data=(x_valid, y_valid))\n"
   ]
  },
  {
   "cell_type": "code",
   "execution_count": 44,
   "metadata": {},
   "outputs": [
    {
     "name": "stdout",
     "output_type": "stream",
     "text": [
      "[ 7.862636 15.886109 23.661116 29.771872 35.843994 42.258636]\n",
      "      첫번째  두번째  세번째  네번째  다섯번째  여섯번째  보너스\n",
      "943    11   24   32   33    35    40   13\n",
      "944     6   16   37   38    41    45   18\n",
      "945     5   10   13   27    37    41    4\n",
      "946     2   11   17   18    21    27    6\n",
      "947    13   15   18   24    27    41   11\n",
      "...   ...  ...  ...  ...   ...   ...  ...\n",
      "1148    4    8   10   16    31    36    9\n",
      "1149    4   11   28   39    42    45    6\n",
      "1150    3   15   20   22    24    41   11\n",
      "1151   12   14   25   27    39    40   35\n",
      "1152   10   12   18   35    42    43   39\n",
      "\n",
      "[210 rows x 7 columns]\n"
     ]
    }
   ],
   "source": [
    "pred= model.predict(test_feature)  \n",
    "print(pred[0])\n",
    "\n",
    "print(data_frame[943:])\n"
   ]
  },
  {
   "cell_type": "code",
   "execution_count": null,
   "metadata": {},
   "outputs": [],
   "source": []
  }
 ],
 "metadata": {
  "kernelspec": {
   "display_name": "tests",
   "language": "python",
   "name": "tests"
  },
  "language_info": {
   "codemirror_mode": {
    "name": "ipython",
    "version": 3
   },
   "file_extension": ".py",
   "mimetype": "text/x-python",
   "name": "python",
   "nbconvert_exporter": "python",
   "pygments_lexer": "ipython3",
   "version": "3.7.9"
  }
 },
 "nbformat": 4,
 "nbformat_minor": 4
}
