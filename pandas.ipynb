{
 "cells": [
  {
   "cell_type": "code",
   "execution_count": 4,
   "metadata": {},
   "outputs": [
    {
     "name": "stdout",
     "output_type": "stream",
     "text": [
      "<class 'pandas.core.series.Series'>\n",
      "Index(['a', 'b', 'c'], dtype='object')\n",
      "[1 2 3]\n",
      "a    1\n",
      "b    2\n",
      "c    3\n",
      "dtype: int64\n"
     ]
    }
   ],
   "source": [
    "import pandas as pd\n",
    "\n",
    "# dictionary to series\n",
    "\n",
    "dict_data={'a':1,'b':2,'c':3}\n",
    "\n",
    "sr = pd.Series(dict_data)\n",
    "\n",
    "print(type(sr))\n",
    "print(sr.index) #only index\n",
    "print(sr.values) # only value\n",
    "print(sr) # all"
   ]
  },
  {
   "cell_type": "code",
   "execution_count": 5,
   "metadata": {},
   "outputs": [
    {
     "name": "stdout",
     "output_type": "stream",
     "text": [
      "0    2019-01-02\n",
      "1          3.14\n",
      "2           ABC\n",
      "3           100\n",
      "4          True\n",
      "dtype: object\n",
      "RangeIndex(start=0, stop=5, step=1)\n",
      "['2019-01-02' 3.14 'ABC' 100 True]\n"
     ]
    }
   ],
   "source": [
    "#list to series\n",
    "\n",
    "list_data =['2019-01-02',3.14,'ABC',100,True]\n",
    "sr= pd.Series(list_data)\n",
    "print(sr)\n",
    "idx = sr.index # only index\n",
    "val = sr.values # only value\n",
    "\n",
    "print(idx)\n",
    "print(val)"
   ]
  },
  {
   "cell_type": "code",
   "execution_count": 60,
   "metadata": {},
   "outputs": [
    {
     "name": "stdout",
     "output_type": "stream",
     "text": [
      "이름              영인\n",
      "생년월일    2010-05-01\n",
      "성별               여\n",
      "학생여부          True\n",
      "dtype: object\n",
      "\n",
      "\n",
      "영인\n",
      "\n",
      "\n",
      "이름    영인\n",
      "dtype: object\n",
      "\n",
      "\n",
      "이름              영인\n",
      "생년월일    2010-05-01\n",
      "dtype: object\n",
      "\n",
      "\n",
      "생년월일    2010-05-01\n",
      "성별               여\n",
      "dtype: object\n"
     ]
    }
   ],
   "source": [
    "#tuple to serires\n",
    "\n",
    "tup_data= ('영인','2010-05-01','여',True)\n",
    "sr = pd.Series(tup_data,index=['이름','생년월일','성별','학생여부']) # index option 지정 가능\n",
    "print(sr)\n",
    "print(\"\\n\")\n",
    "print(sr[0]) # value 값만 출력\n",
    "print(\"\\n\")\n",
    "print(sr[[0]]) # 대괄호 하나 더 넣으면 index, value 모두 출력\n",
    "print(\"\\n\")\n",
    "print(sr[0:2]) # 2 포함되지 않음\n",
    "\n",
    "print(\"\\n\")\n",
    "print(sr['생년월일':'성별']) #성별까지 포함됨"
   ]
  },
  {
   "cell_type": "code",
   "execution_count": 7,
   "metadata": {},
   "outputs": [
    {
     "name": "stdout",
     "output_type": "stream",
     "text": [
      "   c0  c1  c2  c3  c4\n",
      "0   1   4   7  10  13\n",
      "1   2   5   8  11  14\n",
      "2   3   6   9  12  15\n"
     ]
    }
   ],
   "source": [
    "#dictionary to dataframe\n",
    "dict_data={'c0':[1,2,3],'c1':[4,5,6],'c2':[7,8,9],'c3':[10,11,12],'c4':[13,14,15]}\n",
    "df = pd.DataFrame(dict_data)\n",
    "print(df)"
   ]
  },
  {
   "cell_type": "code",
   "execution_count": 33,
   "metadata": {},
   "outputs": [
    {
     "name": "stdout",
     "output_type": "stream",
     "text": [
      "    나이 성별   학교\n",
      "준서  15  남  덕영중\n",
      "예은  17  여  수리중\n",
      "\n",
      "\n",
      "     연령 남녀   소속\n",
      "학생1  15  남  덕영중\n",
      "학생2  17  여  수리중\n",
      "\n",
      "\n",
      "     나이 남녀   소속\n",
      "학생1  15  남  덕영중\n",
      "학생2  17  여  수리중\n"
     ]
    }
   ],
   "source": [
    "#행 index 열 index 사용자가 지정 가능\n",
    "df=pd.DataFrame([[15,'남','덕영중'],[17,'여','수리중']],index=['준서','예은'],columns=['나이','성별','학교'])\n",
    "print(df)\n",
    "print(\"\\n\")\n",
    "df.index =['학생1','학생2'] #행 인덱스 이름 변경 \n",
    "df.columns=['연령','남녀','소속']# 컬럼 이름 변경\n",
    "print(df)\n",
    "print(\"\\n\")\n",
    "df.rename(columns={'연령':'나이'},inplace=True)#일부를 선택하여 변경, 원본 데이터 수정이 아니기 때문에 원본 수정 시 inplace True로 설정\n",
    "print(df)"
   ]
  },
  {
   "cell_type": "code",
   "execution_count": 17,
   "metadata": {},
   "outputs": [
    {
     "name": "stdout",
     "output_type": "stream",
     "text": [
      "     나이 남녀   소속\n",
      "학생2  17  여  수리중\n",
      "\n",
      "\n",
      "     나이   소속\n",
      "학생2  17  수리중\n",
      "\n",
      "\n"
     ]
    }
   ],
   "source": [
    "#행 열 삭제\n",
    "df.drop('학생1',inplace=True)# 0 또는 default로 행 삭제\n",
    "print(df)\n",
    "print(\"\\n\")\n",
    "df.drop('남녀',axis=1,inplace=True)# axis=1 이면 열 삭제 \n",
    "print(df)\n",
    "print(\"\\n\")"
   ]
  },
  {
   "cell_type": "code",
   "execution_count": 26,
   "metadata": {},
   "outputs": [
    {
     "name": "stdout",
     "output_type": "stream",
     "text": [
      "     나이 남녀   소속\n",
      "학생1  15  남  덕영중\n",
      "학생2  17  여  수리중\n",
      "\n",
      "\n",
      "     나이 남녀   소속\n",
      "학생1  15  남  덕영중\n"
     ]
    }
   ],
   "source": [
    "# dataframe의 행 데이터 선택 \n",
    "label2 = df.loc['학생1':'학생2']\n",
    "print(label3)\n",
    "print(\"\\n\")\n",
    "label1 = df.iloc[0:1]\n",
    "print(label1)"
   ]
  },
  {
   "cell_type": "code",
   "execution_count": 35,
   "metadata": {},
   "outputs": [
    {
     "name": "stdout",
     "output_type": "stream",
     "text": [
      "나이     15\n",
      "남녀      남\n",
      "소속    덕영중\n",
      "Name: 학생1, dtype: object\n",
      "     나이 남녀   소속\n",
      "학생1  15  남  덕영중\n",
      "학생2  17  여  수리중\n"
     ]
    }
   ],
   "source": [
    "print(df.loc['학생1'])\n",
    "print(df)"
   ]
  },
  {
   "cell_type": "code",
   "execution_count": 40,
   "metadata": {},
   "outputs": [
    {
     "name": "stdout",
     "output_type": "stream",
     "text": [
      "학생1    15\n",
      "학생2    17\n",
      "Name: 나이, dtype: int64\n",
      "\n",
      "\n",
      "학생1    남\n",
      "학생2    여\n",
      "Name: 남녀, dtype: object\n",
      "\n",
      "\n",
      "     나이\n",
      "학생1  15\n",
      "학생2  17\n"
     ]
    }
   ],
   "source": [
    "#dataframe의 열 데이터 선택\n",
    "stu1= df['나이']\n",
    "print(stu1)\n",
    "stu2=df.남녀\n",
    "print(\"\\n\")\n",
    "print(stu2)\n",
    "\n",
    "print(\"\\n\")\n",
    "\n",
    "stu3 = df[['나이']]\n",
    "print(stu3)"
   ]
  },
  {
   "cell_type": "code",
   "execution_count": 44,
   "metadata": {},
   "outputs": [
    {
     "name": "stdout",
     "output_type": "stream",
     "text": [
      "     나이 남녀   소속\n",
      "학생1  15  남  덕영중\n",
      "학생2  17  여  수리중\n",
      "\n",
      "\n",
      "     나이 남녀   소속\n",
      "학생1  15  남  덕영중\n"
     ]
    }
   ],
   "source": [
    "#간격 실행 \n",
    "print(df.iloc[::1])\n",
    "print(\"\\n\")\n",
    "print(df.iloc[::2])# 시작:끝+1:간격 , -1 이면 역순\n"
   ]
  },
  {
   "cell_type": "code",
   "execution_count": 51,
   "metadata": {},
   "outputs": [
    {
     "name": "stdout",
     "output_type": "stream",
     "text": [
      "15\n",
      "나이     15\n",
      "소속    덕영중\n",
      "Name: 학생1, dtype: object\n",
      "     나이   소속\n",
      "학생1  15  덕영중\n",
      "학생2  17  수리중\n"
     ]
    }
   ],
   "source": [
    "#특정 원소 선택\n",
    "print(df.loc['학생1','나이'])\n",
    "print(df.loc['학생1',['나이','소속']])\n",
    "print(df.loc[['학생1','학생2'],['나이','소속']])"
   ]
  },
  {
   "cell_type": "code",
   "execution_count": 54,
   "metadata": {},
   "outputs": [
    {
     "name": "stdout",
     "output_type": "stream",
     "text": [
      "     나이 남녀   소속          생일\n",
      "학생1  15  남  덕영중  2012-03-12\n",
      "학생2  17  여  수리중  2012-03-12\n",
      "학생3  15  남  강화중  2012-03-12\n",
      "     나이 남녀   소속          생일\n",
      "학생1  15  남  덕영중  2012-03-12\n",
      "학생2  17  여  수리중  2012-03-12\n",
      "학생3  15  남  강화중  1993-03-12\n"
     ]
    }
   ],
   "source": [
    "#열추가\n",
    "df['생일']='2012-03-12'\n",
    "print(df)\n",
    "#행추가\n",
    "df.loc['학생3']=[15,'남','강화중','1993-03-12']\n",
    "print(df)"
   ]
  },
  {
   "cell_type": "code",
   "execution_count": 57,
   "metadata": {},
   "outputs": [
    {
     "name": "stdout",
     "output_type": "stream",
     "text": [
      "           학생1         학생2         학생3\n",
      "나이          15          17          15\n",
      "남녀           남           여           남\n",
      "소속         덕영중         수리중         강화중\n",
      "생일  2012-03-12  2012-03-12  1993-03-12\n"
     ]
    }
   ],
   "source": [
    "print(df.transpose()) # 원본데이터는 그대로, 행 열 바꾸기 "
   ]
  },
  {
   "cell_type": "code",
   "execution_count": 68,
   "metadata": {},
   "outputs": [
    {
     "name": "stdout",
     "output_type": "stream",
     "text": [
      "{'c0': [1, 2, 3], 'c1': [4, 5, 6], 'c2': [7, 8, 9], 'c3': [10, 11, 12], 'c4': [13, 14, 15]}\n",
      "\n",
      "\n",
      "    c0  c1  c2  c3  c4\n",
      "r0   1   4   7  10  13\n",
      "r1   2   5   8  11  14\n",
      "r2   3   6   9  12  15\n",
      "\n",
      "\n",
      "     c0   c1   c2    c3    c4\n",
      "r0  1.0  4.0  7.0  10.0  13.0\n",
      "r1  2.0  5.0  8.0  11.0  14.0\n",
      "r2  3.0  6.0  9.0  12.0  15.0\n",
      "r3  NaN  NaN  NaN   NaN   NaN\n",
      "r4  NaN  NaN  NaN   NaN   NaN\n",
      "\n",
      "\n",
      "    c0  c1  c2  c3  c4\n",
      "r0   1   4   7  10  13\n",
      "r1   2   5   8  11  14\n",
      "r2   3   6   9  12  15\n",
      "r3   0   0   0   0   0\n",
      "r4   0   0   0   0   0\n",
      "\n",
      "\n",
      "  index  c0  c1  c2  c3  c4\n",
      "0    r0   1   4   7  10  13\n",
      "1    r1   2   5   8  11  14\n",
      "2    r2   3   6   9  12  15\n",
      "3    r3   0   0   0   0   0\n",
      "4    r4   0   0   0   0   0\n",
      "\n",
      "\n"
     ]
    }
   ],
   "source": [
    "#행 index 재배열\n",
    "print(dict_data)\n",
    "print(\"\\n\")\n",
    "df =pd.DataFrame(dict_data,index=['r0','r1','r2'])\n",
    "print(df)\n",
    "print(\"\\n\")\n",
    "new_index=['r0','r1','r2','r3','r4']\n",
    "ndf = df.reindex(new_index)# index재지정\n",
    "print(ndf)\n",
    "print(\"\\n\")\n",
    "ndf2 =df.reindex(new_index,fill_value=0)# value  빈 부분 0으로 채우기\n",
    "print(ndf2)\n",
    "print(\"\\n\")\n",
    "\n",
    "#행 인덱스 초기화\n",
    "\n",
    "ndf3 = ndf2.reset_index()\n",
    "print(ndf3)\n",
    "print(\"\\n\")"
   ]
  },
  {
   "cell_type": "code",
   "execution_count": 69,
   "metadata": {},
   "outputs": [
    {
     "name": "stdout",
     "output_type": "stream",
     "text": [
      "    c0  c1  c2  c3  c4\n",
      "r2   3   6   9  12  15\n",
      "r1   2   5   8  11  14\n",
      "r0   1   4   7  10  13\n",
      "\n",
      "\n"
     ]
    }
   ],
   "source": [
    "#행 index sort \n",
    "ndf=df.sort_index(ascending=False) # 내림차순으로 sort index 기준 \n",
    "print(ndf)\n",
    "print(\"\\n\")"
   ]
  },
  {
   "cell_type": "code",
   "execution_count": 73,
   "metadata": {},
   "outputs": [
    {
     "name": "stdout",
     "output_type": "stream",
     "text": [
      "    c0  c1  c2  c3  c4\n",
      "r2   3   6   9  12  15\n",
      "r1   2   5   8  11  14\n",
      "r0   1   4   7  10  13\n",
      "\n",
      "\n"
     ]
    }
   ],
   "source": [
    "#열 index sort \n",
    "ndf = df.sort_values(by='c1',ascending =False)\n",
    "print(ndf)\n",
    "print(\"\\n\")"
   ]
  },
  {
   "cell_type": "code",
   "execution_count": 87,
   "metadata": {},
   "outputs": [
    {
     "name": "stdout",
     "output_type": "stream",
     "text": [
      "국어    100\n",
      "영어     80\n",
      "수학     90\n",
      "dtype: int64\n",
      "\n",
      "\n",
      "국어    0.50\n",
      "영어    0.40\n",
      "수학    0.45\n",
      "dtype: float64\n",
      "\n",
      "\n",
      "국어    90\n",
      "수학    80\n",
      "영어    80\n",
      "dtype: int64\n",
      "\n",
      "\n",
      "국어    190\n",
      "수학    170\n",
      "영어    160\n",
      "dtype: int64\n",
      "\n",
      "\n",
      "             국어       수학     영어\n",
      "덧셈   190.000000  170.000  160.0\n",
      "뺄셈    10.000000   10.000    0.0\n",
      "나눗셈    1.111111    1.125    1.0\n",
      "\n",
      "\n",
      "국어     NaN\n",
      "영어    80.0\n",
      "수학    90.0\n",
      "dtype: float64\n",
      "\n",
      "\n",
      "국어     90.0\n",
      "수학    170.0\n",
      "영어    160.0\n",
      "dtype: float64\n",
      "\n",
      "\n"
     ]
    }
   ],
   "source": [
    "# Series 연산\n",
    "student1 = pd.Series([100,80,90],index=['국어','영어','수학'])\n",
    "print(student1)\n",
    "print(\"\\n\")\n",
    "percentage = student1/200\n",
    "print(percentage)\n",
    "print(\"\\n\")\n",
    "\n",
    "\n",
    "# Series VS Series\n",
    "\n",
    "student2 = pd.Series({'국어':90,'수학':80,'영어':80})\n",
    "print(student2)\n",
    "print(\"\\n\")\n",
    "addition= student1+student2\n",
    "print(addition)\n",
    "print(\"\\n\")\n",
    "sub = student1-student2\n",
    "div=student1/student2\n",
    "\n",
    "result =pd.DataFrame([addition,sub,div],index=['덧셈','뺄셈','나눗셈'])\n",
    "print(result)\n",
    "print(\"\\n\")\n",
    "# NaN을 포함한 연산의 결과는 NaN\n",
    "\n",
    "import numpy as np\n",
    "\n",
    "\n",
    "student1['국어']=np.nan\n",
    "print(student1)\n",
    "print(\"\\n\")\n",
    "\n",
    "\n",
    "sr_add =student1.add(student2,fill_value=0)#fill_value를 통해 NaN값을 0으로 바꿔줌\n",
    "print(sr_add)\n",
    "print(\"\\n\")\n"
   ]
  },
  {
   "cell_type": "code",
   "execution_count": 13,
   "metadata": {},
   "outputs": [
    {
     "name": "stdout",
     "output_type": "stream",
     "text": [
      "     survived  pclass     sex   age  sibsp  parch     fare embarked   class  \\\n",
      "0           0       3    male  22.0      1      0   7.2500        S   Third   \n",
      "1           1       1  female  38.0      1      0  71.2833        C   First   \n",
      "2           1       3  female  26.0      0      0   7.9250        S   Third   \n",
      "3           1       1  female  35.0      1      0  53.1000        S   First   \n",
      "4           0       3    male  35.0      0      0   8.0500        S   Third   \n",
      "..        ...     ...     ...   ...    ...    ...      ...      ...     ...   \n",
      "886         0       2    male  27.0      0      0  13.0000        S  Second   \n",
      "887         1       1  female  19.0      0      0  30.0000        S   First   \n",
      "888         0       3  female   NaN      1      2  23.4500        S   Third   \n",
      "889         1       1    male  26.0      0      0  30.0000        C   First   \n",
      "890         0       3    male  32.0      0      0   7.7500        Q   Third   \n",
      "\n",
      "       who  adult_male deck  embark_town alive  alone  \n",
      "0      man        True  NaN  Southampton    no  False  \n",
      "1    woman       False    C    Cherbourg   yes  False  \n",
      "2    woman       False  NaN  Southampton   yes   True  \n",
      "3    woman       False    C  Southampton   yes  False  \n",
      "4      man        True  NaN  Southampton    no   True  \n",
      "..     ...         ...  ...          ...   ...    ...  \n",
      "886    man        True  NaN  Southampton    no   True  \n",
      "887  woman       False    B  Southampton   yes   True  \n",
      "888  woman       False  NaN  Southampton    no  False  \n",
      "889    man        True    C    Cherbourg   yes   True  \n",
      "890    man        True  NaN   Queenstown    no   True  \n",
      "\n",
      "[891 rows x 15 columns]\n",
      "\n",
      "\n",
      "      age     fare\n",
      "0    22.0   7.2500\n",
      "1    38.0  71.2833\n",
      "2    26.0   7.9250\n",
      "3    35.0  53.1000\n",
      "4    35.0   8.0500\n",
      "..    ...      ...\n",
      "886  27.0  13.0000\n",
      "887  19.0  30.0000\n",
      "888   NaN  23.4500\n",
      "889  26.0  30.0000\n",
      "890  32.0   7.7500\n",
      "\n",
      "[891 rows x 2 columns]\n",
      "\n",
      "\n",
      "    age     fare\n",
      "0  22.0   7.2500\n",
      "1  38.0  71.2833\n",
      "2  26.0   7.9250\n",
      "3  35.0  53.1000\n",
      "4  35.0   8.0500\n",
      "\n",
      "\n",
      "<class 'pandas.core.frame.DataFrame'>\n",
      "<class 'pandas.core.frame.DataFrame'>\n",
      "\n",
      "\n",
      "    age     fare\n",
      "0  32.0  17.2500\n",
      "1  48.0  81.2833\n",
      "2  36.0  17.9250\n",
      "3  45.0  63.1000\n",
      "4  45.0  18.0500\n",
      "\n",
      "\n",
      "      age   fare\n",
      "886  37.0  23.00\n",
      "887  29.0  40.00\n",
      "888   NaN  33.45\n",
      "889  36.0  40.00\n",
      "890  42.0  17.75\n"
     ]
    }
   ],
   "source": [
    "# DataFrame 연산 \n",
    "\n",
    "import seaborn as sns \n",
    "\n",
    "titanic = sns.load_dataset('titanic')\n",
    "print(titanic)\n",
    "print(\"\\n\")\n",
    "df =titanic.loc[:,['age','fare']]\n",
    "print(df)\n",
    "print(\"\\n\")\n",
    "df2=titanic[['age','fare']]\n",
    "print(df2.head()) # 첫 5행만 표시\n",
    "print(\"\\n\")\n",
    "print(type(df))\n",
    "print(type(df2))\n",
    "print(\"\\n\")\n",
    "\n",
    "\n",
    "\n",
    "#addition\n",
    "addition= df+10\n",
    "print(addition.head())\n",
    "print(\"\\n\")\n",
    "\n",
    "print(addition.tail())#마지막 5행 표시\n",
    "\n",
    " \n",
    "\n"
   ]
  },
  {
   "cell_type": "code",
   "execution_count": null,
   "metadata": {},
   "outputs": [],
   "source": [
    "#DataFrame VS DataFrame \n",
    "\n"
   ]
  },
  {
   "cell_type": "code",
   "execution_count": null,
   "metadata": {},
   "outputs": [],
   "source": []
  }
 ],
 "metadata": {
  "kernelspec": {
   "display_name": "Python 3",
   "language": "python",
   "name": "python3"
  },
  "language_info": {
   "codemirror_mode": {
    "name": "ipython",
    "version": 3
   },
   "file_extension": ".py",
   "mimetype": "text/x-python",
   "name": "python",
   "nbconvert_exporter": "python",
   "pygments_lexer": "ipython3",
   "version": "3.6.10"
  }
 },
 "nbformat": 4,
 "nbformat_minor": 4
}
