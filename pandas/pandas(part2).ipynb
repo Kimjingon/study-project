{
 "cells": [
  {
   "cell_type": "code",
   "execution_count": 10,
   "metadata": {},
   "outputs": [],
   "source": [
    "import pandas as pd\n",
    "import numpy as np \n",
    "from bs4 import BeautifulSoup\n",
    "import requests\n",
    "import re"
   ]
  },
  {
   "cell_type": "code",
   "execution_count": 9,
   "metadata": {},
   "outputs": [
    {
     "name": "stdout",
     "output_type": "stream",
     "text": [
      "   c0  c1  c2  c4\n",
      "0   0   1   4   7\n",
      "1   1   2   5   8\n",
      "2   2   3   6   9\n",
      "\n",
      "\n",
      "    0   1   2   3\n",
      "0  c0  c1  c2  c4\n",
      "1   0   1   4   7\n",
      "2   1   2   5   8\n",
      "3   2   3   6   9\n",
      "\n",
      "\n",
      "   c0  c1  c2  c4\n",
      "0   0   1   4   7\n",
      "1   1   2   5   8\n",
      "2   2   3   6   9\n",
      "\n",
      "\n",
      "    c1  c2  c4\n",
      "c0            \n",
      "0    1   4   7\n",
      "1    2   5   8\n",
      "2    3   6   9\n",
      "\n",
      "\n",
      "   c0  c1  c2  c3\n",
      "0   0   1   4   7\n",
      "1   1   2   5   8\n",
      "2   2   3   6   9\n",
      "\n",
      "\n"
     ]
    }
   ],
   "source": [
    "file_path = './test.csv'\n",
    "df1 = pd.read_csv(file_path)# header line = 0 (default)\n",
    "print(df1)\n",
    "print(\"\\n\")\n",
    "\n",
    "\n",
    "df2 = pd.read_csv(file_path,header=None) # 행 index 없음\n",
    "print(df2)\n",
    "print(\"\\n\")\n",
    "\n",
    "\n",
    "df3 = pd.read_csv(file_path,index_col=None) # 열 index 없음\n",
    "print(df3)\n",
    "print(\"\\n\")\n",
    "\n",
    "\n",
    "df4 = pd.read_csv(file_path,index_col = 'c0') # 열 index c0 열\n",
    "print(df4)\n",
    "print(\"\\n\")\n",
    "\n",
    "df5 = pd.read_csv(file_path, names=['c0','c1','c2','c3'],skiprows=1)# 1행 skip 후 열 이름 따로 지정\n",
    "print(df5)\n",
    "print(\"\\n\")\n",
    "\n",
    "# path : 파일 위치(파일명 포함), URL\n",
    "# sep : 텍스트 데이터 필드별로 구분하는 문자\n",
    "# header : 열 이름으로 사용될 행의 번호\n",
    "# index_col : 행 인덱스로 사용할 열의 번호 또는 열 이름\n",
    "# names : 열 이름으로 사용할 문자열의 리스트\n",
    "#skiprows : 처음 몇 줄 skip할 지 설정(숫자 입력)\n",
    "#parse_dates : 날짜 텍스트를 datetime64로 변환할 것인지 설정 (기본값 False)\n",
    "#skip_footer : 마지막 몇 줄 skip 할 지 설정 (숫자입력)\n",
    "#encoding : 텍스트 인코딩 종류 설정 "
   ]
  },
  {
   "cell_type": "code",
   "execution_count": 33,
   "metadata": {},
   "outputs": [
    {
     "name": "stdout",
     "output_type": "stream",
     "text": [
      "      Name algol c++\n",
      "Jerry    A    A+   B\n",
      "Riah     C     B  B+\n",
      "Paul     A     B   C\n",
      "\n",
      "\n"
     ]
    }
   ],
   "source": [
    "# csv 파일로 저장 \n",
    "data =[['Name','algol','c++'],['Jerry','Riah','Paul'],[\"A\",\"A+\",\"B\"],[\"C\",\"B\",\"B+\"],[\"A\",\"B\",\"C\"]]\n",
    "df=pd.DataFrame([data[2],data[3],data[4]],columns=data[0],index=data[1])\n",
    "print(df)\n",
    "print(\"\\n\")\n",
    "\n",
    "df.to_csv(\"./test_result.csv\")\n"
   ]
  },
  {
   "cell_type": "code",
   "execution_count": null,
   "metadata": {},
   "outputs": [],
   "source": []
  }
 ],
 "metadata": {
  "kernelspec": {
   "display_name": "Python 3",
   "language": "python",
   "name": "python3"
  },
  "language_info": {
   "codemirror_mode": {
    "name": "ipython",
    "version": 3
   },
   "file_extension": ".py",
   "mimetype": "text/x-python",
   "name": "python",
   "nbconvert_exporter": "python",
   "pygments_lexer": "ipython3",
   "version": "3.6.10"
  }
 },
 "nbformat": 4,
 "nbformat_minor": 4
}
